{
 "cells": [
  {
   "cell_type": "markdown",
   "metadata": {},
   "source": [
    "# Conexion BBDD y llamada a api para obtener datos de diferentes acciones"
   ]
  },
  {
   "cell_type": "markdown",
   "metadata": {},
   "source": [
    "### Alfonso Pinto Coder House Entrega 2"
   ]
  },
  {
   "cell_type": "code",
   "execution_count": 25,
   "metadata": {},
   "outputs": [],
   "source": [
    "# Importo librerias\n",
    "# pip install psycopg2 pandas python-dotenv\n",
    "import pandas as pd\n",
    "import missingno as msno\n",
    "import psycopg2\n",
    "import os\n",
    "import requests\n",
    "from dotenv import load_dotenv\n",
    "from psycopg2.extras import execute_values"
   ]
  },
  {
   "cell_type": "code",
   "execution_count": 26,
   "metadata": {},
   "outputs": [
    {
     "name": "stdout",
     "output_type": "stream",
     "text": [
      "Connected to Redshift successfully!\n"
     ]
    }
   ],
   "source": [
    "load_dotenv()\n",
    "\n",
    "# Se cargan las credenciales, a partir de un archivo .env, de la base de datos y se realiza la conexión.\n",
    "\n",
    "CODER_REDSHIFT_HOST = os.environ.get('CODER_REDSHIFT_HOST')\n",
    "CODER_REDSHIFT_DB = os.environ.get('CODER_REDSHIFT_DB')\n",
    "CODER_REDSHIFT_USER = os.environ.get('CODER_REDSHIFT_USER')\n",
    "CODER_REDSHIFT_PASS = os.environ.get('CODER_REDSHIFT_PASS')\n",
    "CODER_REDSHIFT_PORT = os.environ.get('CODER_REDSHIFT_PORT')\n",
    "\n",
    "# Nos conectamos a la base de datos\n",
    "try:\n",
    "    conn = psycopg2.connect(\n",
    "        host=CODER_REDSHIFT_HOST,\n",
    "        dbname=CODER_REDSHIFT_DB,\n",
    "        user=CODER_REDSHIFT_USER,\n",
    "        password=CODER_REDSHIFT_PASS,\n",
    "        port=CODER_REDSHIFT_PORT,\n",
    "\n",
    "    )\n",
    "    print(\"Connected to Redshift successfully!\")\n",
    "    \n",
    "except Exception as e:\n",
    "    print(\"Unable to connect to Redshift.\")\n",
    "    print(e)"
   ]
  },
  {
   "cell_type": "code",
   "execution_count": 27,
   "metadata": {},
   "outputs": [],
   "source": [
    "# Se realiza la consulta a la API de Alphavantage para obtener los datos de las acciones de Apple (AAPL) y Amazon (AMZN) en el año 2020.\n",
    "# La llave es gratuita y se puede obtener en https://www.alphavantage.co/support/#api-key\n",
    "# En este caso se almacena en el archivo .env para mayor seguridad, bajo el nombre ALPHAVANTAGE_API_KEY\n",
    "alphavantage_api_key = os.environ.get('ALPHAVANTAGE_API_KEY')"
   ]
  },
  {
   "cell_type": "code",
   "execution_count": 28,
   "metadata": {},
   "outputs": [],
   "source": [
    "# Funciones para obtener los datos de la API de Alphavantage y procesarlos en un DataFrame de Pandas de acuerdo a los tipos de datos de cada columna\n",
    "def get_json(symbol):\n",
    "    # Se realiza la petición a la API de Alpha Vantage con el símbolo de la acción y la llave de la API\n",
    "    # La llave de la API se encuentra en el archivo .env y es gratuita, se puede obtener en https://www.alphavantage.co/support/#api-key.\n",
    "    # AL no tener opciones de pago, la API solo permite 5 peticiones por minuto y 500 peticiones por día.\n",
    "    url = f\"https://www.alphavantage.co/query?function=TIME_SERIES_MONTHLY_ADJUSTED&symbol={symbol}&interval=5min&apikey={alphavantage_api_key}\"\n",
    "    r = requests.get(url)\n",
    "    print(r)\n",
    "    return r.json()\n",
    "def format_json(json, symbol):\n",
    "    # Se crea un DataFrame en Pandas a partir del json y se transpone para que las columnas sean los datos y las filas los días\n",
    "    df = pd.DataFrame(json['Monthly Adjusted Time Series']).T\n",
    "    # Se cambian los nombres de las columnas para que no tengan enumeración\n",
    "    df.rename(columns=lambda x: x[3:], inplace=True)\n",
    "    # Agregar columna index\n",
    "    df['date'] = df.index\n",
    "    # Se resetea el index para que date sea una columna y no un índice\n",
    "    df.reset_index(drop=True, inplace=True)\n",
    "    # Se definen los tipos de datos de las columnas ya que naturalmente son todos strings VARCHAR\n",
    "    df['date'] = pd.to_datetime(df['date'])\n",
    "    df['open'] = pd.to_numeric(df['open'])\n",
    "    df['high'] = pd.to_numeric(df['high'])\n",
    "    df['low'] = pd.to_numeric(df['low'])\n",
    "    df['close'] = pd.to_numeric(df['close'])\n",
    "    df['adjusted close'] = pd.to_numeric(df['adjusted close'])\n",
    "    # Cambiar volumen a millones ya que es un número muy grande y no se puede almacenar en un INT\n",
    "    df['volume'] = pd.to_numeric(df['volume'])\n",
    "    df['volume'] = round(df['volume'] / 1000000)\n",
    "    df['volume'] = df['volume'].astype(int)\n",
    "    df['dividend amount'] = pd.to_numeric(df['dividend amount'])\n",
    "    #Se agrega la columna symbol con el símbolo de la acción\n",
    "    df['symbol'] = symbol\n",
    "    df['symbol'] = df['symbol'].astype(str)\n",
    "    #Se devuelve el DataFrame ya transformado\n",
    "    return df"
   ]
  },
  {
   "cell_type": "code",
   "execution_count": 29,
   "metadata": {},
   "outputs": [
    {
     "name": "stdout",
     "output_type": "stream",
     "text": [
      "<Response [200]>\n",
      "<Response [200]>\n",
      "<Response [200]>\n",
      "<Response [200]>\n",
      "<Response [200]>\n"
     ]
    }
   ],
   "source": [
    "# Apple\n",
    "data = get_json('AAPL')\n",
    "df_aapl = format_json(data, 'AAPL')\n",
    "# Amazon\n",
    "data = get_json('AMZN')\n",
    "df_amzn = format_json(data, 'AMZN')\n",
    "# Google\n",
    "data = get_json('GOOG')\n",
    "df_goog = format_json(data, 'GOOG')\n",
    "# Microsoft\n",
    "data = get_json('MSFT')\n",
    "df_msft = format_json(data, 'MSFT')\n",
    "# IBM\n",
    "data = get_json('IBM')\n",
    "df_ibm = format_json(data, 'IBM')"
   ]
  },
  {
   "cell_type": "code",
   "execution_count": 30,
   "metadata": {},
   "outputs": [
    {
     "data": {
      "text/html": [
       "<div>\n",
       "<style scoped>\n",
       "    .dataframe tbody tr th:only-of-type {\n",
       "        vertical-align: middle;\n",
       "    }\n",
       "\n",
       "    .dataframe tbody tr th {\n",
       "        vertical-align: top;\n",
       "    }\n",
       "\n",
       "    .dataframe thead th {\n",
       "        text-align: right;\n",
       "    }\n",
       "</style>\n",
       "<table border=\"1\" class=\"dataframe\">\n",
       "  <thead>\n",
       "    <tr style=\"text-align: right;\">\n",
       "      <th></th>\n",
       "      <th>open</th>\n",
       "      <th>high</th>\n",
       "      <th>low</th>\n",
       "      <th>close</th>\n",
       "      <th>adjusted close</th>\n",
       "      <th>volume</th>\n",
       "      <th>dividend amount</th>\n",
       "      <th>date</th>\n",
       "      <th>symbol</th>\n",
       "    </tr>\n",
       "  </thead>\n",
       "  <tbody>\n",
       "    <tr>\n",
       "      <th>0</th>\n",
       "      <td>171.00</td>\n",
       "      <td>177.780</td>\n",
       "      <td>170.120</td>\n",
       "      <td>176.65</td>\n",
       "      <td>176.65</td>\n",
       "      <td>214</td>\n",
       "      <td>0.0</td>\n",
       "      <td>2023-11-03</td>\n",
       "      <td>AAPL</td>\n",
       "    </tr>\n",
       "    <tr>\n",
       "      <th>1</th>\n",
       "      <td>133.96</td>\n",
       "      <td>139.490</td>\n",
       "      <td>133.710</td>\n",
       "      <td>138.60</td>\n",
       "      <td>138.60</td>\n",
       "      <td>158</td>\n",
       "      <td>0.0</td>\n",
       "      <td>2023-11-03</td>\n",
       "      <td>AMZN</td>\n",
       "    </tr>\n",
       "    <tr>\n",
       "      <th>2</th>\n",
       "      <td>125.34</td>\n",
       "      <td>130.730</td>\n",
       "      <td>124.925</td>\n",
       "      <td>130.37</td>\n",
       "      <td>130.37</td>\n",
       "      <td>70</td>\n",
       "      <td>0.0</td>\n",
       "      <td>2023-11-03</td>\n",
       "      <td>GOOG</td>\n",
       "    </tr>\n",
       "    <tr>\n",
       "      <th>3</th>\n",
       "      <td>145.00</td>\n",
       "      <td>148.445</td>\n",
       "      <td>144.450</td>\n",
       "      <td>147.90</td>\n",
       "      <td>147.90</td>\n",
       "      <td>12</td>\n",
       "      <td>0.0</td>\n",
       "      <td>2023-11-03</td>\n",
       "      <td>IBM</td>\n",
       "    </tr>\n",
       "    <tr>\n",
       "      <th>4</th>\n",
       "      <td>339.79</td>\n",
       "      <td>354.390</td>\n",
       "      <td>339.650</td>\n",
       "      <td>352.80</td>\n",
       "      <td>352.80</td>\n",
       "      <td>76</td>\n",
       "      <td>0.0</td>\n",
       "      <td>2023-11-03</td>\n",
       "      <td>MSFT</td>\n",
       "    </tr>\n",
       "  </tbody>\n",
       "</table>\n",
       "</div>"
      ],
      "text/plain": [
       "     open     high      low   close  adjusted close  volume  dividend amount  \\\n",
       "0  171.00  177.780  170.120  176.65          176.65     214              0.0   \n",
       "1  133.96  139.490  133.710  138.60          138.60     158              0.0   \n",
       "2  125.34  130.730  124.925  130.37          130.37      70              0.0   \n",
       "3  145.00  148.445  144.450  147.90          147.90      12              0.0   \n",
       "4  339.79  354.390  339.650  352.80          352.80      76              0.0   \n",
       "\n",
       "        date symbol  \n",
       "0 2023-11-03   AAPL  \n",
       "1 2023-11-03   AMZN  \n",
       "2 2023-11-03   GOOG  \n",
       "3 2023-11-03    IBM  \n",
       "4 2023-11-03   MSFT  "
      ]
     },
     "execution_count": 30,
     "metadata": {},
     "output_type": "execute_result"
    }
   ],
   "source": [
    "# Se concatenan los DataFrames de cada acción en uno solo con distintos símbolos para así poder almacenarlos en una sola tabla y poder realizar consultas de forma más sencilla.\n",
    "result_df = pd.concat([df_aapl, df_amzn, df_goog, df_msft, df_ibm], ignore_index=True)\n",
    "# Se ordena el DataFrame por fecha de forma descendente\n",
    "result_df = result_df.sort_values(by=['date'], ascending=False)\n",
    "result_df = result_df.reset_index(drop=True)\n",
    "result_df.head(5)"
   ]
  },
  {
   "cell_type": "markdown",
   "metadata": {},
   "source": [
    "# Integridad de datos"
   ]
  },
  {
   "cell_type": "code",
   "execution_count": 31,
   "metadata": {},
   "outputs": [
    {
     "data": {
      "text/plain": [
       "<Axes: >"
      ]
     },
     "execution_count": 31,
     "metadata": {},
     "output_type": "execute_result"
    },
    {
     "data": {
      "image/png": "[encoded data removed]",
      "text/plain": [
       "<Figure size 2500x1000 with 2 Axes>"
      ]
     },
     "metadata": {},
     "output_type": "display_data"
    }
   ],
   "source": [
    "# Revisamos visualmente la existencia de datos faltantes\n",
    "msno.matrix(result_df)"
   ]
  },
  {
   "cell_type": "code",
   "execution_count": 32,
   "metadata": {},
   "outputs": [
    {
     "name": "stdout",
     "output_type": "stream",
     "text": [
      "<class 'pandas.core.frame.DataFrame'>\n",
      "RangeIndex: 1268 entries, 0 to 1267\n",
      "Data columns (total 9 columns):\n",
      " #   Column           Non-Null Count  Dtype         \n",
      "---  ------           --------------  -----         \n",
      " 0   open             1268 non-null   float64       \n",
      " 1   high             1268 non-null   float64       \n",
      " 2   low              1268 non-null   float64       \n",
      " 3   close            1268 non-null   float64       \n",
      " 4   adjusted close   1268 non-null   float64       \n",
      " 5   volume           1268 non-null   int32         \n",
      " 6   dividend amount  1268 non-null   float64       \n",
      " 7   date             1268 non-null   datetime64[ns]\n",
      " 8   symbol           1268 non-null   object        \n",
      "dtypes: datetime64[ns](1), float64(6), int32(1), object(1)\n",
      "memory usage: 84.3+ KB\n"
     ]
    }
   ],
   "source": [
    "# Revisamos los tipos de datos de cada columna para posteriormente crear la tabla en la base de datos con ellos\n",
    "result_df.info()"
   ]
  },
  {
   "cell_type": "code",
   "execution_count": 33,
   "metadata": {},
   "outputs": [
    {
     "data": {
      "text/html": [
       "<div>\n",
       "<style scoped>\n",
       "    .dataframe tbody tr th:only-of-type {\n",
       "        vertical-align: middle;\n",
       "    }\n",
       "\n",
       "    .dataframe tbody tr th {\n",
       "        vertical-align: top;\n",
       "    }\n",
       "\n",
       "    .dataframe thead th {\n",
       "        text-align: right;\n",
       "    }\n",
       "</style>\n",
       "<table border=\"1\" class=\"dataframe\">\n",
       "  <thead>\n",
       "    <tr style=\"text-align: right;\">\n",
       "      <th></th>\n",
       "      <th>open</th>\n",
       "      <th>high</th>\n",
       "      <th>low</th>\n",
       "      <th>close</th>\n",
       "      <th>adjusted close</th>\n",
       "      <th>volume</th>\n",
       "      <th>dividend amount</th>\n",
       "      <th>date</th>\n",
       "    </tr>\n",
       "  </thead>\n",
       "  <tbody>\n",
       "    <tr>\n",
       "      <th>count</th>\n",
       "      <td>1268.000000</td>\n",
       "      <td>1268.000000</td>\n",
       "      <td>1268.000000</td>\n",
       "      <td>1268.000000</td>\n",
       "      <td>1268.000000</td>\n",
       "      <td>1268.000000</td>\n",
       "      <td>1268.000000</td>\n",
       "      <td>1268</td>\n",
       "    </tr>\n",
       "    <tr>\n",
       "      <th>mean</th>\n",
       "      <td>326.031775</td>\n",
       "      <td>348.203109</td>\n",
       "      <td>302.617583</td>\n",
       "      <td>325.391417</td>\n",
       "      <td>58.585050</td>\n",
       "      <td>456.354101</td>\n",
       "      <td>0.117800</td>\n",
       "      <td>2012-08-10 08:37:51.293375488</td>\n",
       "    </tr>\n",
       "    <tr>\n",
       "      <th>min</th>\n",
       "      <td>5.910000</td>\n",
       "      <td>9.190000</td>\n",
       "      <td>5.510000</td>\n",
       "      <td>5.970000</td>\n",
       "      <td>0.214300</td>\n",
       "      <td>12.000000</td>\n",
       "      <td>0.000000</td>\n",
       "      <td>1999-12-31 00:00:00</td>\n",
       "    </tr>\n",
       "    <tr>\n",
       "      <th>25%</th>\n",
       "      <td>55.007500</td>\n",
       "      <td>60.630000</td>\n",
       "      <td>49.305000</td>\n",
       "      <td>55.220000</td>\n",
       "      <td>13.872400</td>\n",
       "      <td>97.000000</td>\n",
       "      <td>0.000000</td>\n",
       "      <td>2006-07-31 00:00:00</td>\n",
       "    </tr>\n",
       "    <tr>\n",
       "      <th>50%</th>\n",
       "      <td>123.210000</td>\n",
       "      <td>131.380000</td>\n",
       "      <td>116.040000</td>\n",
       "      <td>123.340000</td>\n",
       "      <td>38.978100</td>\n",
       "      <td>189.500000</td>\n",
       "      <td>0.000000</td>\n",
       "      <td>2013-02-28 00:00:00</td>\n",
       "    </tr>\n",
       "    <tr>\n",
       "      <th>75%</th>\n",
       "      <td>228.065000</td>\n",
       "      <td>241.447500</td>\n",
       "      <td>205.610000</td>\n",
       "      <td>226.212500</td>\n",
       "      <td>98.673200</td>\n",
       "      <td>681.000000</td>\n",
       "      <td>0.000000</td>\n",
       "      <td>2018-08-31 00:00:00</td>\n",
       "    </tr>\n",
       "    <tr>\n",
       "      <th>max</th>\n",
       "      <td>3545.000000</td>\n",
       "      <td>3773.078200</td>\n",
       "      <td>3306.980000</td>\n",
       "      <td>3507.070000</td>\n",
       "      <td>352.800000</td>\n",
       "      <td>3887.000000</td>\n",
       "      <td>3.290000</td>\n",
       "      <td>2023-11-03 00:00:00</td>\n",
       "    </tr>\n",
       "    <tr>\n",
       "      <th>std</th>\n",
       "      <td>599.861050</td>\n",
       "      <td>640.196745</td>\n",
       "      <td>556.303771</td>\n",
       "      <td>597.888069</td>\n",
       "      <td>61.642059</td>\n",
       "      <td>507.593599</td>\n",
       "      <td>0.379837</td>\n",
       "      <td>NaN</td>\n",
       "    </tr>\n",
       "  </tbody>\n",
       "</table>\n",
       "</div>"
      ],
      "text/plain": [
       "              open         high          low        close  adjusted close  \\\n",
       "count  1268.000000  1268.000000  1268.000000  1268.000000     1268.000000   \n",
       "mean    326.031775   348.203109   302.617583   325.391417       58.585050   \n",
       "min       5.910000     9.190000     5.510000     5.970000        0.214300   \n",
       "25%      55.007500    60.630000    49.305000    55.220000       13.872400   \n",
       "50%     123.210000   131.380000   116.040000   123.340000       38.978100   \n",
       "75%     228.065000   241.447500   205.610000   226.212500       98.673200   \n",
       "max    3545.000000  3773.078200  3306.980000  3507.070000      352.800000   \n",
       "std     599.861050   640.196745   556.303771   597.888069       61.642059   \n",
       "\n",
       "            volume  dividend amount                           date  \n",
       "count  1268.000000      1268.000000                           1268  \n",
       "mean    456.354101         0.117800  2012-08-10 08:37:51.293375488  \n",
       "min      12.000000         0.000000            1999-12-31 00:00:00  \n",
       "25%      97.000000         0.000000            2006-07-31 00:00:00  \n",
       "50%     189.500000         0.000000            2013-02-28 00:00:00  \n",
       "75%     681.000000         0.000000            2018-08-31 00:00:00  \n",
       "max    3887.000000         3.290000            2023-11-03 00:00:00  \n",
       "std     507.593599         0.379837                            NaN  "
      ]
     },
     "execution_count": 33,
     "metadata": {},
     "output_type": "execute_result"
    }
   ],
   "source": [
    "# Se buscan las medidas de tendencia central y dispersión de las columnas numéricas para revisar que no haya datos atípicos\n",
    "result_df.describe()"
   ]
  },
  {
   "cell_type": "code",
   "execution_count": 34,
   "metadata": {},
   "outputs": [
    {
     "data": {
      "text/plain": [
       "symbol\n",
       "AAPL    288\n",
       "AMZN    288\n",
       "IBM     288\n",
       "MSFT    288\n",
       "GOOG    116\n",
       "Name: count, dtype: int64"
      ]
     },
     "execution_count": 34,
     "metadata": {},
     "output_type": "execute_result"
    }
   ],
   "source": [
    "# Revisamos la cantidad de valores por símbolo\n",
    "# Se evidencia menos datos para Google\n",
    "result_df['symbol'].value_counts().sort_values(ascending=False)"
   ]
  },
  {
   "cell_type": "markdown",
   "metadata": {},
   "source": [
    "# Creación de tabla en redshift (parte de la entrega 1)"
   ]
  },
  {
   "cell_type": "code",
   "execution_count": 35,
   "metadata": {},
   "outputs": [],
   "source": [
    "# Se utiliza la misma funcion de creacion de tabla de la entrega anterior\n",
    "def crear_tabla_redshift(nombre_tabla):\n",
    "    try:\n",
    "        # Se crea la tabla en Redshift con el nombre de la acción de la entrega anterior\n",
    "        cursor = conn.cursor()\n",
    "        # Se elimina la tabla si ya existe\n",
    "        cursor.execute(f\"DROP TABLE IF EXISTS {nombre_tabla};\")\n",
    "        # Se determinan los tipos de dato a partir de el .info anterior\n",
    "        cursor.execute(f\"\"\"CREATE TABLE IF NOT EXISTS {nombre_tabla} (\"open\" FLOAT, \"high\" FLOAT, \"low\" FLOAT, \"close\" FLOAT, \"adjusted close\" FLOAT, \"volume\" INT, \"dividend amount\" FLOAT, \"date\" TIMESTAMP, \"symbol\" VARCHAR(255));\n",
    "        \"\"\")\n",
    "        conn.commit()\n",
    "        cursor.close()\n",
    "        print(\"Tabla creada exitosamente\")\n",
    "    except Exception as e:\n",
    "        print(\"Error creating table\")\n",
    "        print(e)"
   ]
  },
  {
   "cell_type": "code",
   "execution_count": 36,
   "metadata": {},
   "outputs": [
    {
     "name": "stdout",
     "output_type": "stream",
     "text": [
      "Tabla creada exitosamente\n"
     ]
    }
   ],
   "source": [
    "# Se crea la tabla en Redshift para cada todas las acciones de distintos Symbol\n",
    "crear_tabla_redshift('monthly_stocks_over_time')"
   ]
  },
  {
   "cell_type": "markdown",
   "metadata": {},
   "source": [
    "# Carga de datos en la tabla de redshift"
   ]
  },
  {
   "cell_type": "code",
   "execution_count": 37,
   "metadata": {},
   "outputs": [],
   "source": [
    "def cargar_en_redshift(conn, table_name, dataframe):\n",
    "    # Funcion para cargar un dataframe en una tabla de redshift, creando la tabla si no existe\n",
    "    # Definir formato tipos de datos SQL\n",
    "    dtypes = dataframe.dtypes\n",
    "    cols = list(dtypes.index)\n",
    "    print(cols)\n",
    "    tipos = list(dtypes.values)\n",
    "    type_map = {\n",
    "        'float64': 'FLOAT',\n",
    "        'int32': 'INT',\n",
    "        'datetime64[ns]': 'TIMESTAMP',\n",
    "        'object': 'VARCHAR(255)'\n",
    "    }\n",
    "    # Definir formato TIPO_DATO revisando el tipo de dato de cada columna del dataframe\n",
    "    sql_dtypes = [type_map.get(str(dtype), 'VARCHAR(255)') for dtype in tipos]\n",
    "\n",
    "    # Definir formato COLUMNA TIPO_DATO\n",
    "    column_defs = [f'\"{name}\" {data_type}' for name, data_type in zip(cols, sql_dtypes)]\n",
    "\n",
    "    # Combina las columnas y los tipos de datos en una sola cadena de SQL para crear la tabla con todas la columnas necesarias\n",
    "    # En este caso del ejercicio creamos la tabla anteriormente por lo que no es necesario volver a crearla y mas adelante solo se insertan los datos.\n",
    "    table_schema = f\"\"\"\n",
    "        CREATE TABLE IF NOT EXISTS {table_name} ({', '.join(column_defs)});\n",
    "        \"\"\"\n",
    "    print(table_schema)\n",
    "\n",
    "    # Crear la tabla\n",
    "    cur = conn.cursor()\n",
    "    try:\n",
    "        # Se ejecuta el comando para crear la tabla creado anteriormente\n",
    "        cur.execute(table_schema)\n",
    "\n",
    "        # Generar los valores a insertar\n",
    "        values = [tuple(x) for x in dataframe.values]\n",
    "\n",
    "        # Definir el INSERT con las columnas a insertar\n",
    "        insert_sql = f\"INSERT INTO {table_name} (\\\"open\\\", \\\"high\\\", \\\"low\\\", \\\"close\\\", \\\"adjusted close\\\", \\\"volume\\\", \\\"dividend amount\\\", \\\"date\\\", \\\"symbol\\\") VALUES %s\"\n",
    "\n",
    "        # Execute the transaction to insert the data\n",
    "        cur.execute(\"BEGIN\")\n",
    "        execute_values(cur, insert_sql, values)\n",
    "        cur.execute(\"COMMIT\")\n",
    "        print('Proceso terminado')\n",
    "    except Exception as e:\n",
    "        print(f\"Error: {e}\")\n",
    "        conn.rollback()  # Rollback the transaction on error"
   ]
  },
  {
   "cell_type": "code",
   "execution_count": 38,
   "metadata": {},
   "outputs": [
    {
     "name": "stdout",
     "output_type": "stream",
     "text": [
      "['open', 'high', 'low', 'close', 'adjusted close', 'volume', 'dividend amount', 'date', 'symbol']\n",
      "\n",
      "        CREATE TABLE IF NOT EXISTS monthly_stocks_over_time (\"open\" FLOAT, \"high\" FLOAT, \"low\" FLOAT, \"close\" FLOAT, \"adjusted close\" FLOAT, \"volume\" INT, \"dividend amount\" FLOAT, \"date\" TIMESTAMP, \"symbol\" VARCHAR(255));\n",
      "        \n",
      "Proceso terminado\n"
     ]
    }
   ],
   "source": [
    "# Se carga el DataFrame en la tabla de Redshift\n",
    "cargar_en_redshift(conn=conn, table_name='monthly_stocks_over_time', dataframe=result_df)"
   ]
  }
 ],
 "metadata": {
  "kernelspec": {
   "display_name": "Python 3",
   "language": "python",
   "name": "python3"
  },
  "language_info": {
   "codemirror_mode": {
    "name": "ipython",
    "version": 3
   },
   "file_extension": ".py",
   "mimetype": "text/x-python",
   "name": "python",
   "nbconvert_exporter": "python",
   "pygments_lexer": "ipython3",
   "version": "3.9.4"
  }
 },
 "nbformat": 4,
 "nbformat_minor": 2
}
