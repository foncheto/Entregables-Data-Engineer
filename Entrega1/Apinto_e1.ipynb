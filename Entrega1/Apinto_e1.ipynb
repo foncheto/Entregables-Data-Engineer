{
 "cells": [
  {
   "cell_type": "markdown",
   "metadata": {},
   "source": [
    "## Alfonso Pinto CoderHouse ACCIONES EN LA BOLSA DE VALORES"
   ]
  },
  {
   "cell_type": "code",
   "execution_count": 3,
   "metadata": {},
   "outputs": [],
   "source": [
    "# Importo librerias\n",
    "# pip install psycopg2 pandas python-dotenv\n",
    "import pandas as pd\n",
    "import psycopg2\n",
    "import os\n",
    "import requests\n",
    "from dotenv import load_dotenv\n",
    "from psycopg2.extras import execute_values"
   ]
  },
  {
   "cell_type": "code",
   "execution_count": 4,
   "metadata": {},
   "outputs": [
    {
     "name": "stdout",
     "output_type": "stream",
     "text": [
      "Connected to Redshift successfully!\n"
     ]
    }
   ],
   "source": [
    "load_dotenv()\n",
    "\n",
    "# Se cargan las credenciales, a partir de un archivo .env, de la base de datos y se realiza la conexión.\n",
    "\n",
    "CODER_REDSHIFT_HOST = os.environ.get('CODER_REDSHIFT_HOST')\n",
    "CODER_REDSHIFT_DB = os.environ.get('CODER_REDSHIFT_DB')\n",
    "CODER_REDSHIFT_USER = os.environ.get('CODER_REDSHIFT_USER')\n",
    "CODER_REDSHIFT_PASS = os.environ.get('CODER_REDSHIFT_PASS')\n",
    "CODER_REDSHIFT_PORT = os.environ.get('CODER_REDSHIFT_PORT')\n",
    "\n",
    "# Nos conectamos a la base de datos\n",
    "try:\n",
    "    conn = psycopg2.connect(\n",
    "        host=CODER_REDSHIFT_HOST,\n",
    "        dbname=CODER_REDSHIFT_DB,\n",
    "        user=CODER_REDSHIFT_USER,\n",
    "        password=CODER_REDSHIFT_PASS,\n",
    "        port=CODER_REDSHIFT_PORT,\n",
    "\n",
    "    )\n",
    "    print(\"Connected to Redshift successfully!\")\n",
    "    \n",
    "except Exception as e:\n",
    "    print(\"Unable to connect to Redshift.\")\n",
    "    print(e)"
   ]
  },
  {
   "cell_type": "markdown",
   "metadata": {},
   "source": [
    "# SEGUNDA PARTE (Conexión y Parsing de Datos a partir de API AlphaVantage)"
   ]
  },
  {
   "cell_type": "code",
   "execution_count": 5,
   "metadata": {},
   "outputs": [],
   "source": [
    "# Se realiza la consulta a la API de Alphavantage para obtener los datos de las acciones de Apple (AAPL) y Amazon (AMZN) en el año 2020.\n",
    "# La llave es gratuita y se puede obtener en https://www.alphavantage.co/support/#api-key\n",
    "# En este caso se almacena en el archivo .env para mayor seguridad, bajo el nombre ALPHAVANTAGE_API_KEY\n",
    "alphavantage_api_key = os.environ.get('ALPHAVANTAGE_API_KEY')"
   ]
  },
  {
   "cell_type": "code",
   "execution_count": 7,
   "metadata": {},
   "outputs": [],
   "source": [
    "def get_json(symbol):\n",
    "    # Se realiza la petición a la API de Alpha Vantage con el símbolo de la acción y la llave de la API\n",
    "    # La llave de la API se encuentra en el archivo .env y es gratuita, se puede obtener en https://www.alphavantage.co/support/#api-key.\n",
    "    # AL no tener opciones de pago, la API solo permite 5 peticiones por minuto y 500 peticiones por día.\n",
    "    url = f\"https://www.alphavantage.co/query?function=TIME_SERIES_MONTHLY_ADJUSTED&symbol={symbol}&interval=5min&apikey={alphavantage_api_key}\"\n",
    "    r = requests.get(url)\n",
    "    print(r)\n",
    "    return r.json()\n",
    "def json_a_diccionario(json, symbol):\n",
    "    # Se crea un diccionario vacío\n",
    "    diccionario = {}\n",
    "    # Se itera sobre las llaves del json\n",
    "    for llave in json.keys():\n",
    "        diccionario[llave] = json[llave]\n",
    "\n",
    "    dictionaryList = json['Monthly Adjusted Time Series']\n",
    "\n",
    "    dictWithAllRecords = {}\n",
    "\n",
    "    for date in dictionaryList:\n",
    "        open = dictionaryList[date]['1. open']\n",
    "        high = dictionaryList[date]['2. high']\n",
    "        low = dictionaryList[date]['3. low']\n",
    "        close = dictionaryList[date]['4. close']\n",
    "        adjusted_close = dictionaryList[date]['5. adjusted close']\n",
    "        volume = dictionaryList[date]['6. volume']\n",
    "        dividend_amount = dictionaryList[date]['7. dividend amount']\n",
    "        symbol = symbol\n",
    "        record = {\n",
    "            'open': open,\n",
    "            'high': high,\n",
    "            'low': low,\n",
    "            'close': close,\n",
    "            'adjusted_close': adjusted_close,\n",
    "            'volume': volume,\n",
    "            'dividend_amount': dividend_amount,\n",
    "            'symbol': symbol,\n",
    "            'date': date,\n",
    "        }\n",
    "        dictWithAllRecords[date] = record\n",
    "    return dictWithAllRecords\n",
    "def format_json(json, symbol):\n",
    "    # Se crea un DataFrame en Pandas a partir del json y se transpone para que las columnas sean los datos y las filas los días\n",
    "    df = pd.DataFrame(json['Monthly Adjusted Time Series']).T\n",
    "    # Se cambian los nombres de las columnas para que no tengan enumeración\n",
    "    df.rename(columns=lambda x: x[3:], inplace=True)\n",
    "    # Agregar columna index\n",
    "    df['date'] = df.index\n",
    "    df.reset_index(drop=True, inplace=True)\n",
    "    # Se definen los tipos de datos de las columnas ya que naturalmente son todos strings VARCHAR\n",
    "    df['date'] = pd.to_datetime(df['date'])\n",
    "    df['open'] = pd.to_numeric(df['open'])\n",
    "    df['high'] = pd.to_numeric(df['high'])\n",
    "    df['low'] = pd.to_numeric(df['low'])\n",
    "    df['close'] = pd.to_numeric(df['close'])\n",
    "    df['adjusted close'] = pd.to_numeric(df['adjusted close'])\n",
    "    # Cambiar volumen a millones ya que es un número muy grande y no se puede almacenar en un INT\n",
    "    df['volume'] = pd.to_numeric(df['volume'])\n",
    "    df['volume'] = round(df['volume'] / 1000000)\n",
    "    df['volume'] = df['volume'].astype(int)\n",
    "    df['dividend amount'] = pd.to_numeric(df['dividend amount'])\n",
    "    #Se agrega la columna symbol con el símbolo de la acción\n",
    "    df['symbol'] = symbol\n",
    "    df['symbol'] = df['symbol'].astype(str)\n",
    "    #Se devuelve el DataFrame ya transformado\n",
    "    return df"
   ]
  },
  {
   "cell_type": "code",
   "execution_count": 8,
   "metadata": {},
   "outputs": [
    {
     "name": "stdout",
     "output_type": "stream",
     "text": [
      "<Response [200]>\n"
     ]
    }
   ],
   "source": [
    "# Conexio a API y posterior transformacion a lista de diccionarios con nombres de futurascolumnas\n",
    "data = get_json('AAPL')\n",
    "dict = json_a_diccionario(data, 'AAPL')"
   ]
  },
  {
   "cell_type": "code",
   "execution_count": 9,
   "metadata": {},
   "outputs": [
    {
     "data": {
      "text/plain": [
       "{'open': '135.5000',\n",
       " 'high': '139.5000',\n",
       " 'low': '104.8700',\n",
       " 'close': '124.0600',\n",
       " 'adjusted_close': '0.9401',\n",
       " 'volume': '77342900',\n",
       " 'dividend_amount': '0.0000',\n",
       " 'symbol': 'AAPL',\n",
       " 'date': '2000-04-28'}"
      ]
     },
     "execution_count": 9,
     "metadata": {},
     "output_type": "execute_result"
    }
   ],
   "source": [
    "# Ejemplo de un registro del diccionario\n",
    "dict['2000-04-28']"
   ]
  },
  {
   "cell_type": "code",
   "execution_count": 30,
   "metadata": {},
   "outputs": [
    {
     "data": {
      "text/plain": [
       "'15.9800'"
      ]
     },
     "execution_count": 30,
     "metadata": {},
     "output_type": "execute_result"
    }
   ],
   "source": [
    "# Ejemplo de un valor del registro del diccionario\n",
    "dict['2002-06-28']['low']"
   ]
  },
  {
   "cell_type": "code",
   "execution_count": 10,
   "metadata": {},
   "outputs": [
    {
     "data": {
      "text/html": [
       "<div>\n",
       "<style scoped>\n",
       "    .dataframe tbody tr th:only-of-type {\n",
       "        vertical-align: middle;\n",
       "    }\n",
       "\n",
       "    .dataframe tbody tr th {\n",
       "        vertical-align: top;\n",
       "    }\n",
       "\n",
       "    .dataframe thead th {\n",
       "        text-align: right;\n",
       "    }\n",
       "</style>\n",
       "<table border=\"1\" class=\"dataframe\">\n",
       "  <thead>\n",
       "    <tr style=\"text-align: right;\">\n",
       "      <th></th>\n",
       "      <th>open</th>\n",
       "      <th>high</th>\n",
       "      <th>low</th>\n",
       "      <th>close</th>\n",
       "      <th>adjusted close</th>\n",
       "      <th>volume</th>\n",
       "      <th>dividend amount</th>\n",
       "      <th>date</th>\n",
       "      <th>symbol</th>\n",
       "    </tr>\n",
       "  </thead>\n",
       "  <tbody>\n",
       "    <tr>\n",
       "      <th>0</th>\n",
       "      <td>171.00</td>\n",
       "      <td>177.78</td>\n",
       "      <td>170.12</td>\n",
       "      <td>177.57</td>\n",
       "      <td>177.57</td>\n",
       "      <td>134</td>\n",
       "      <td>0.0</td>\n",
       "      <td>2023-11-02</td>\n",
       "      <td>AAPL</td>\n",
       "    </tr>\n",
       "    <tr>\n",
       "      <th>1</th>\n",
       "      <td>171.22</td>\n",
       "      <td>182.34</td>\n",
       "      <td>165.67</td>\n",
       "      <td>170.77</td>\n",
       "      <td>170.77</td>\n",
       "      <td>1173</td>\n",
       "      <td>0.0</td>\n",
       "      <td>2023-10-31</td>\n",
       "      <td>AAPL</td>\n",
       "    </tr>\n",
       "  </tbody>\n",
       "</table>\n",
       "</div>"
      ],
      "text/plain": [
       "     open    high     low   close  adjusted close  volume  dividend amount  \\\n",
       "0  171.00  177.78  170.12  177.57          177.57     134              0.0   \n",
       "1  171.22  182.34  165.67  170.77          170.77    1173              0.0   \n",
       "\n",
       "        date symbol  \n",
       "0 2023-11-02   AAPL  \n",
       "1 2023-10-31   AAPL  "
      ]
     },
     "execution_count": 10,
     "metadata": {},
     "output_type": "execute_result"
    }
   ],
   "source": [
    "# Procedemos a convertir el diccionario en un pandas dataframe para trabajarlo más fácilmente.\n",
    "df_aapl = format_json(data, 'AAPL')\n",
    "df_aapl.head(2)"
   ]
  },
  {
   "cell_type": "code",
   "execution_count": 12,
   "metadata": {},
   "outputs": [
    {
     "name": "stdout",
     "output_type": "stream",
     "text": [
      "<Response [200]>\n"
     ]
    },
    {
     "data": {
      "text/html": [
       "<div>\n",
       "<style scoped>\n",
       "    .dataframe tbody tr th:only-of-type {\n",
       "        vertical-align: middle;\n",
       "    }\n",
       "\n",
       "    .dataframe tbody tr th {\n",
       "        vertical-align: top;\n",
       "    }\n",
       "\n",
       "    .dataframe thead th {\n",
       "        text-align: right;\n",
       "    }\n",
       "</style>\n",
       "<table border=\"1\" class=\"dataframe\">\n",
       "  <thead>\n",
       "    <tr style=\"text-align: right;\">\n",
       "      <th></th>\n",
       "      <th>open</th>\n",
       "      <th>high</th>\n",
       "      <th>low</th>\n",
       "      <th>close</th>\n",
       "      <th>adjusted close</th>\n",
       "      <th>volume</th>\n",
       "      <th>dividend amount</th>\n",
       "      <th>date</th>\n",
       "      <th>symbol</th>\n",
       "    </tr>\n",
       "  </thead>\n",
       "  <tbody>\n",
       "    <tr>\n",
       "      <th>0</th>\n",
       "      <td>133.96</td>\n",
       "      <td>138.81</td>\n",
       "      <td>133.71</td>\n",
       "      <td>138.07</td>\n",
       "      <td>138.07</td>\n",
       "      <td>114</td>\n",
       "      <td>0.0</td>\n",
       "      <td>2023-11-02</td>\n",
       "      <td>AMZN</td>\n",
       "    </tr>\n",
       "    <tr>\n",
       "      <th>1</th>\n",
       "      <td>127.28</td>\n",
       "      <td>134.48</td>\n",
       "      <td>118.35</td>\n",
       "      <td>133.09</td>\n",
       "      <td>133.09</td>\n",
       "      <td>1225</td>\n",
       "      <td>0.0</td>\n",
       "      <td>2023-10-31</td>\n",
       "      <td>AMZN</td>\n",
       "    </tr>\n",
       "  </tbody>\n",
       "</table>\n",
       "</div>"
      ],
      "text/plain": [
       "     open    high     low   close  adjusted close  volume  dividend amount  \\\n",
       "0  133.96  138.81  133.71  138.07          138.07     114              0.0   \n",
       "1  127.28  134.48  118.35  133.09          133.09    1225              0.0   \n",
       "\n",
       "        date symbol  \n",
       "0 2023-11-02   AMZN  \n",
       "1 2023-10-31   AMZN  "
      ]
     },
     "execution_count": 12,
     "metadata": {},
     "output_type": "execute_result"
    }
   ],
   "source": [
    "# Amazon\n",
    "data = get_json('AMZN')\n",
    "df_amzn = format_json(data, 'AMZN')\n",
    "df_amzn.head(2)"
   ]
  },
  {
   "cell_type": "code",
   "execution_count": 13,
   "metadata": {},
   "outputs": [
    {
     "name": "stdout",
     "output_type": "stream",
     "text": [
      "<Response [200]>\n"
     ]
    },
    {
     "data": {
      "text/html": [
       "<div>\n",
       "<style scoped>\n",
       "    .dataframe tbody tr th:only-of-type {\n",
       "        vertical-align: middle;\n",
       "    }\n",
       "\n",
       "    .dataframe tbody tr th {\n",
       "        vertical-align: top;\n",
       "    }\n",
       "\n",
       "    .dataframe thead th {\n",
       "        text-align: right;\n",
       "    }\n",
       "</style>\n",
       "<table border=\"1\" class=\"dataframe\">\n",
       "  <thead>\n",
       "    <tr style=\"text-align: right;\">\n",
       "      <th></th>\n",
       "      <th>open</th>\n",
       "      <th>high</th>\n",
       "      <th>low</th>\n",
       "      <th>close</th>\n",
       "      <th>adjusted close</th>\n",
       "      <th>volume</th>\n",
       "      <th>dividend amount</th>\n",
       "      <th>date</th>\n",
       "      <th>symbol</th>\n",
       "    </tr>\n",
       "  </thead>\n",
       "  <tbody>\n",
       "    <tr>\n",
       "      <th>0</th>\n",
       "      <td>125.340</td>\n",
       "      <td>130.09</td>\n",
       "      <td>124.925</td>\n",
       "      <td>128.58</td>\n",
       "      <td>128.58</td>\n",
       "      <td>51</td>\n",
       "      <td>0.0</td>\n",
       "      <td>2023-11-02</td>\n",
       "      <td>GOOG</td>\n",
       "    </tr>\n",
       "    <tr>\n",
       "      <th>1</th>\n",
       "      <td>132.155</td>\n",
       "      <td>142.38</td>\n",
       "      <td>121.460</td>\n",
       "      <td>125.30</td>\n",
       "      <td>125.30</td>\n",
       "      <td>515</td>\n",
       "      <td>0.0</td>\n",
       "      <td>2023-10-31</td>\n",
       "      <td>GOOG</td>\n",
       "    </tr>\n",
       "  </tbody>\n",
       "</table>\n",
       "</div>"
      ],
      "text/plain": [
       "      open    high      low   close  adjusted close  volume  dividend amount  \\\n",
       "0  125.340  130.09  124.925  128.58          128.58      51              0.0   \n",
       "1  132.155  142.38  121.460  125.30          125.30     515              0.0   \n",
       "\n",
       "        date symbol  \n",
       "0 2023-11-02   GOOG  \n",
       "1 2023-10-31   GOOG  "
      ]
     },
     "execution_count": 13,
     "metadata": {},
     "output_type": "execute_result"
    }
   ],
   "source": [
    "# Google\n",
    "data = get_json('GOOG')\n",
    "df_goog = format_json(data, 'GOOG')\n",
    "df_goog.head(2)"
   ]
  },
  {
   "cell_type": "code",
   "execution_count": 14,
   "metadata": {},
   "outputs": [
    {
     "name": "stdout",
     "output_type": "stream",
     "text": [
      "<Response [200]>\n"
     ]
    },
    {
     "data": {
      "text/html": [
       "<div>\n",
       "<style scoped>\n",
       "    .dataframe tbody tr th:only-of-type {\n",
       "        vertical-align: middle;\n",
       "    }\n",
       "\n",
       "    .dataframe tbody tr th {\n",
       "        vertical-align: top;\n",
       "    }\n",
       "\n",
       "    .dataframe thead th {\n",
       "        text-align: right;\n",
       "    }\n",
       "</style>\n",
       "<table border=\"1\" class=\"dataframe\">\n",
       "  <thead>\n",
       "    <tr style=\"text-align: right;\">\n",
       "      <th></th>\n",
       "      <th>open</th>\n",
       "      <th>high</th>\n",
       "      <th>low</th>\n",
       "      <th>close</th>\n",
       "      <th>adjusted close</th>\n",
       "      <th>volume</th>\n",
       "      <th>dividend amount</th>\n",
       "      <th>date</th>\n",
       "      <th>symbol</th>\n",
       "    </tr>\n",
       "  </thead>\n",
       "  <tbody>\n",
       "    <tr>\n",
       "      <th>0</th>\n",
       "      <td>339.79</td>\n",
       "      <td>348.83</td>\n",
       "      <td>339.650</td>\n",
       "      <td>348.32</td>\n",
       "      <td>348.32</td>\n",
       "      <td>53</td>\n",
       "      <td>0.0</td>\n",
       "      <td>2023-11-02</td>\n",
       "      <td>MSFT</td>\n",
       "    </tr>\n",
       "    <tr>\n",
       "      <th>1</th>\n",
       "      <td>316.28</td>\n",
       "      <td>346.20</td>\n",
       "      <td>311.215</td>\n",
       "      <td>338.11</td>\n",
       "      <td>338.11</td>\n",
       "      <td>541</td>\n",
       "      <td>0.0</td>\n",
       "      <td>2023-10-31</td>\n",
       "      <td>MSFT</td>\n",
       "    </tr>\n",
       "  </tbody>\n",
       "</table>\n",
       "</div>"
      ],
      "text/plain": [
       "     open    high      low   close  adjusted close  volume  dividend amount  \\\n",
       "0  339.79  348.83  339.650  348.32          348.32      53              0.0   \n",
       "1  316.28  346.20  311.215  338.11          338.11     541              0.0   \n",
       "\n",
       "        date symbol  \n",
       "0 2023-11-02   MSFT  \n",
       "1 2023-10-31   MSFT  "
      ]
     },
     "execution_count": 14,
     "metadata": {},
     "output_type": "execute_result"
    }
   ],
   "source": [
    "# Microsoft\n",
    "data = get_json('MSFT')\n",
    "df_msft = format_json(data, 'MSFT')\n",
    "df_msft.head(2)"
   ]
  },
  {
   "cell_type": "code",
   "execution_count": 15,
   "metadata": {},
   "outputs": [
    {
     "name": "stdout",
     "output_type": "stream",
     "text": [
      "<Response [200]>\n"
     ]
    },
    {
     "data": {
      "text/html": [
       "<div>\n",
       "<style scoped>\n",
       "    .dataframe tbody tr th:only-of-type {\n",
       "        vertical-align: middle;\n",
       "    }\n",
       "\n",
       "    .dataframe tbody tr th {\n",
       "        vertical-align: top;\n",
       "    }\n",
       "\n",
       "    .dataframe thead th {\n",
       "        text-align: right;\n",
       "    }\n",
       "</style>\n",
       "<table border=\"1\" class=\"dataframe\">\n",
       "  <thead>\n",
       "    <tr style=\"text-align: right;\">\n",
       "      <th></th>\n",
       "      <th>open</th>\n",
       "      <th>high</th>\n",
       "      <th>low</th>\n",
       "      <th>close</th>\n",
       "      <th>adjusted close</th>\n",
       "      <th>volume</th>\n",
       "      <th>dividend amount</th>\n",
       "      <th>date</th>\n",
       "      <th>symbol</th>\n",
       "    </tr>\n",
       "  </thead>\n",
       "  <tbody>\n",
       "    <tr>\n",
       "      <th>0</th>\n",
       "      <td>145.00</td>\n",
       "      <td>147.10</td>\n",
       "      <td>144.45</td>\n",
       "      <td>147.01</td>\n",
       "      <td>147.01</td>\n",
       "      <td>9</td>\n",
       "      <td>0.0</td>\n",
       "      <td>2023-11-02</td>\n",
       "      <td>IBM</td>\n",
       "    </tr>\n",
       "    <tr>\n",
       "      <th>1</th>\n",
       "      <td>140.04</td>\n",
       "      <td>144.76</td>\n",
       "      <td>135.87</td>\n",
       "      <td>144.64</td>\n",
       "      <td>144.64</td>\n",
       "      <td>94</td>\n",
       "      <td>0.0</td>\n",
       "      <td>2023-10-31</td>\n",
       "      <td>IBM</td>\n",
       "    </tr>\n",
       "  </tbody>\n",
       "</table>\n",
       "</div>"
      ],
      "text/plain": [
       "     open    high     low   close  adjusted close  volume  dividend amount  \\\n",
       "0  145.00  147.10  144.45  147.01          147.01       9              0.0   \n",
       "1  140.04  144.76  135.87  144.64          144.64      94              0.0   \n",
       "\n",
       "        date symbol  \n",
       "0 2023-11-02    IBM  \n",
       "1 2023-10-31    IBM  "
      ]
     },
     "execution_count": 15,
     "metadata": {},
     "output_type": "execute_result"
    }
   ],
   "source": [
    "# IBM\n",
    "data = get_json('IBM')\n",
    "df_ibm = format_json(data, 'IBM')\n",
    "df_ibm.head(2)"
   ]
  },
  {
   "cell_type": "code",
   "execution_count": 16,
   "metadata": {},
   "outputs": [
    {
     "data": {
      "text/plain": [
       "open                      float64\n",
       "high                      float64\n",
       "low                       float64\n",
       "close                     float64\n",
       "adjusted close            float64\n",
       "volume                      int64\n",
       "dividend amount           float64\n",
       "date               datetime64[ns]\n",
       "symbol                     object\n",
       "dtype: object"
      ]
     },
     "execution_count": 16,
     "metadata": {},
     "output_type": "execute_result"
    }
   ],
   "source": [
    "# Se visualiza el tipo de dato de cada columna para la creación de la tabla\n",
    "df_aapl.dtypes"
   ]
  },
  {
   "cell_type": "code",
   "execution_count": 17,
   "metadata": {},
   "outputs": [],
   "source": [
    "def crear_tabla_redshift(nombre_tabla):\n",
    "    try:\n",
    "        # Se crea la tabla en Redshift con el nombre de la acción\n",
    "        cursor = conn.cursor()\n",
    "        cursor.execute(f\"DROP TABLE IF EXISTS {nombre_tabla};\")\n",
    "        cursor.execute(f\"\"\"CREATE TABLE IF NOT EXISTS {nombre_tabla} (\"open\" FLOAT, \"high\" FLOAT, \"low\" FLOAT, \"close\" FLOAT, \"adjusted close\" FLOAT, \"volume\" INT, \"dividend amount\" FLOAT, \"date\" TIMESTAMP, \"symbol\" VARCHAR(255));\n",
    "        \"\"\")\n",
    "        conn.commit()\n",
    "        cursor.close()\n",
    "        print(\"Tabla creada exitosamente\")\n",
    "    except Exception as e:\n",
    "        print(\"Error creating table\")\n",
    "        print(e)\n"
   ]
  },
  {
   "cell_type": "code",
   "execution_count": 18,
   "metadata": {},
   "outputs": [
    {
     "name": "stdout",
     "output_type": "stream",
     "text": [
      "Tabla creada exitosamente\n"
     ]
    }
   ],
   "source": [
    "# Se crea la tabla en Redshift con el nombre de la acción para futuros insert\n",
    "crear_tabla_redshift('AAPL')"
   ]
  },
  {
   "cell_type": "markdown",
   "metadata": {},
   "source": [
    "# TERCERA PARTE (Subida parcial de datos a Redshift)"
   ]
  },
  {
   "cell_type": "code",
   "execution_count": 19,
   "metadata": {},
   "outputs": [],
   "source": [
    "def cargar_en_redshift(conn, table_name, dataframe):\n",
    "    # Funcion para cargar un dataframe en una tabla de redshift, creando la tabla si no existe\n",
    "    # Definir formato tipos de datos SQL\n",
    "    dtypes = dataframe.dtypes\n",
    "    cols = list(dtypes.index)\n",
    "    print(cols)\n",
    "    tipos = list(dtypes.values)\n",
    "    type_map = {\n",
    "        'float64': 'FLOAT',\n",
    "        'int32': 'INT',\n",
    "        'datetime64[ns]': 'TIMESTAMP',\n",
    "        'object': 'VARCHAR(255)'\n",
    "    }\n",
    "    # Definir formato TIPO_DATO revisando el tipo de dato de cada columna del dataframe\n",
    "    sql_dtypes = [type_map.get(str(dtype), 'VARCHAR(255)') for dtype in tipos]\n",
    "\n",
    "    # Definir formato COLUMNA TIPO_DATO\n",
    "    column_defs = [f'\"{name}\" {data_type}' for name, data_type in zip(cols, sql_dtypes)]\n",
    "\n",
    "    # Combina las columnas y los tipos de datos en una sola cadena de SQL para crear la tabla con todas la columnas necesarias\n",
    "    table_schema = f\"\"\"\n",
    "        CREATE TABLE IF NOT EXISTS {table_name} ({', '.join(column_defs)});\n",
    "        \"\"\"\n",
    "    print(table_schema)\n",
    "\n",
    "    # Crear la tabla\n",
    "    cur = conn.cursor()\n",
    "    try:\n",
    "        # Se ejecuta el comando para crear la tabla creado anteriormente\n",
    "        cur.execute(table_schema)\n",
    "\n",
    "        # Generar los valores a insertar\n",
    "        values = [tuple(x) for x in dataframe.values]\n",
    "\n",
    "        # Definir el INSERT con las columnas a insertar\n",
    "        insert_sql = f\"INSERT INTO {table_name} (\\\"open\\\", \\\"high\\\", \\\"low\\\", \\\"close\\\", \\\"adjusted close\\\", \\\"volume\\\", \\\"dividend amount\\\", \\\"date\\\", \\\"symbol\\\") VALUES %s\"\n",
    "\n",
    "        # Execute the transaction to insert the data\n",
    "        cur.execute(\"BEGIN\")\n",
    "        execute_values(cur, insert_sql, values)\n",
    "        cur.execute(\"COMMIT\")\n",
    "        print('Proceso terminado')\n",
    "    except Exception as e:\n",
    "        print(f\"Error: {e}\")\n",
    "        conn.rollback()  # Rollback the transaction on error\n",
    "\n",
    "def drop_table(conn, table_name):\n",
    "    # Funcion para eliminar una tabla y asi poder volver a crearla sin problemas de sobreescritura\n",
    "    cur = conn.cursor()\n",
    "    try:\n",
    "        cur.execute(f\"DROP TABLE IF EXISTS {table_name}\")\n",
    "        conn.commit()\n",
    "        print('Proceso terminado')\n",
    "    except Exception as e:\n",
    "        print(f\"Error: {e}\")\n",
    "        conn.rollback()  # Rollback the transaction on error\n"
   ]
  },
  {
   "cell_type": "code",
   "execution_count": 20,
   "metadata": {},
   "outputs": [
    {
     "name": "stdout",
     "output_type": "stream",
     "text": [
      "Proceso terminado\n"
     ]
    }
   ],
   "source": [
    "# Se elimina la tabla si existe\n",
    "drop_table(conn=conn, table_name='apple_example')"
   ]
  },
  {
   "cell_type": "code",
   "execution_count": 21,
   "metadata": {},
   "outputs": [
    {
     "name": "stdout",
     "output_type": "stream",
     "text": [
      "['open', 'high', 'low', 'close', 'adjusted close', 'volume', 'dividend amount', 'date', 'symbol']\n",
      "\n",
      "        CREATE TABLE IF NOT EXISTS apple_example (\"open\" FLOAT, \"high\" FLOAT, \"low\" FLOAT, \"close\" FLOAT, \"adjusted close\" FLOAT, \"volume\" VARCHAR(255), \"dividend amount\" FLOAT, \"date\" TIMESTAMP, \"symbol\" VARCHAR(255));\n",
      "        \n",
      "Proceso terminado\n"
     ]
    }
   ],
   "source": [
    "# Prueba de la función de carga de datos con la tabla de solo el simbolo AAPL\n",
    "cargar_en_redshift(conn=conn, table_name='apple_example', dataframe=df_aapl)"
   ]
  },
  {
   "cell_type": "markdown",
   "metadata": {},
   "source": [
    "# CUARTA PARTE (Unión de Datos y Subida a Redshift)"
   ]
  },
  {
   "cell_type": "code",
   "execution_count": 22,
   "metadata": {},
   "outputs": [
    {
     "data": {
      "text/html": [
       "<div>\n",
       "<style scoped>\n",
       "    .dataframe tbody tr th:only-of-type {\n",
       "        vertical-align: middle;\n",
       "    }\n",
       "\n",
       "    .dataframe tbody tr th {\n",
       "        vertical-align: top;\n",
       "    }\n",
       "\n",
       "    .dataframe thead th {\n",
       "        text-align: right;\n",
       "    }\n",
       "</style>\n",
       "<table border=\"1\" class=\"dataframe\">\n",
       "  <thead>\n",
       "    <tr style=\"text-align: right;\">\n",
       "      <th></th>\n",
       "      <th>open</th>\n",
       "      <th>high</th>\n",
       "      <th>low</th>\n",
       "      <th>close</th>\n",
       "      <th>adjusted close</th>\n",
       "      <th>volume</th>\n",
       "      <th>dividend amount</th>\n",
       "      <th>date</th>\n",
       "      <th>symbol</th>\n",
       "    </tr>\n",
       "  </thead>\n",
       "  <tbody>\n",
       "    <tr>\n",
       "      <th>0</th>\n",
       "      <td>171.000</td>\n",
       "      <td>177.78</td>\n",
       "      <td>170.120</td>\n",
       "      <td>177.57</td>\n",
       "      <td>177.57</td>\n",
       "      <td>134</td>\n",
       "      <td>0.0</td>\n",
       "      <td>2023-11-02</td>\n",
       "      <td>AAPL</td>\n",
       "    </tr>\n",
       "    <tr>\n",
       "      <th>1</th>\n",
       "      <td>133.960</td>\n",
       "      <td>138.81</td>\n",
       "      <td>133.710</td>\n",
       "      <td>138.07</td>\n",
       "      <td>138.07</td>\n",
       "      <td>114</td>\n",
       "      <td>0.0</td>\n",
       "      <td>2023-11-02</td>\n",
       "      <td>AMZN</td>\n",
       "    </tr>\n",
       "    <tr>\n",
       "      <th>2</th>\n",
       "      <td>125.340</td>\n",
       "      <td>130.09</td>\n",
       "      <td>124.925</td>\n",
       "      <td>128.58</td>\n",
       "      <td>128.58</td>\n",
       "      <td>51</td>\n",
       "      <td>0.0</td>\n",
       "      <td>2023-11-02</td>\n",
       "      <td>GOOG</td>\n",
       "    </tr>\n",
       "    <tr>\n",
       "      <th>3</th>\n",
       "      <td>145.000</td>\n",
       "      <td>147.10</td>\n",
       "      <td>144.450</td>\n",
       "      <td>147.01</td>\n",
       "      <td>147.01</td>\n",
       "      <td>9</td>\n",
       "      <td>0.0</td>\n",
       "      <td>2023-11-02</td>\n",
       "      <td>IBM</td>\n",
       "    </tr>\n",
       "    <tr>\n",
       "      <th>4</th>\n",
       "      <td>339.790</td>\n",
       "      <td>348.83</td>\n",
       "      <td>339.650</td>\n",
       "      <td>348.32</td>\n",
       "      <td>348.32</td>\n",
       "      <td>53</td>\n",
       "      <td>0.0</td>\n",
       "      <td>2023-11-02</td>\n",
       "      <td>MSFT</td>\n",
       "    </tr>\n",
       "    <tr>\n",
       "      <th>5</th>\n",
       "      <td>140.040</td>\n",
       "      <td>144.76</td>\n",
       "      <td>135.870</td>\n",
       "      <td>144.64</td>\n",
       "      <td>144.64</td>\n",
       "      <td>94</td>\n",
       "      <td>0.0</td>\n",
       "      <td>2023-10-31</td>\n",
       "      <td>IBM</td>\n",
       "    </tr>\n",
       "    <tr>\n",
       "      <th>6</th>\n",
       "      <td>127.280</td>\n",
       "      <td>134.48</td>\n",
       "      <td>118.350</td>\n",
       "      <td>133.09</td>\n",
       "      <td>133.09</td>\n",
       "      <td>1225</td>\n",
       "      <td>0.0</td>\n",
       "      <td>2023-10-31</td>\n",
       "      <td>AMZN</td>\n",
       "    </tr>\n",
       "    <tr>\n",
       "      <th>7</th>\n",
       "      <td>132.155</td>\n",
       "      <td>142.38</td>\n",
       "      <td>121.460</td>\n",
       "      <td>125.30</td>\n",
       "      <td>125.30</td>\n",
       "      <td>515</td>\n",
       "      <td>0.0</td>\n",
       "      <td>2023-10-31</td>\n",
       "      <td>GOOG</td>\n",
       "    </tr>\n",
       "    <tr>\n",
       "      <th>8</th>\n",
       "      <td>171.220</td>\n",
       "      <td>182.34</td>\n",
       "      <td>165.670</td>\n",
       "      <td>170.77</td>\n",
       "      <td>170.77</td>\n",
       "      <td>1173</td>\n",
       "      <td>0.0</td>\n",
       "      <td>2023-10-31</td>\n",
       "      <td>AAPL</td>\n",
       "    </tr>\n",
       "    <tr>\n",
       "      <th>9</th>\n",
       "      <td>316.280</td>\n",
       "      <td>346.20</td>\n",
       "      <td>311.215</td>\n",
       "      <td>338.11</td>\n",
       "      <td>338.11</td>\n",
       "      <td>541</td>\n",
       "      <td>0.0</td>\n",
       "      <td>2023-10-31</td>\n",
       "      <td>MSFT</td>\n",
       "    </tr>\n",
       "  </tbody>\n",
       "</table>\n",
       "</div>"
      ],
      "text/plain": [
       "      open    high      low   close  adjusted close  volume  dividend amount  \\\n",
       "0  171.000  177.78  170.120  177.57          177.57     134              0.0   \n",
       "1  133.960  138.81  133.710  138.07          138.07     114              0.0   \n",
       "2  125.340  130.09  124.925  128.58          128.58      51              0.0   \n",
       "3  145.000  147.10  144.450  147.01          147.01       9              0.0   \n",
       "4  339.790  348.83  339.650  348.32          348.32      53              0.0   \n",
       "5  140.040  144.76  135.870  144.64          144.64      94              0.0   \n",
       "6  127.280  134.48  118.350  133.09          133.09    1225              0.0   \n",
       "7  132.155  142.38  121.460  125.30          125.30     515              0.0   \n",
       "8  171.220  182.34  165.670  170.77          170.77    1173              0.0   \n",
       "9  316.280  346.20  311.215  338.11          338.11     541              0.0   \n",
       "\n",
       "        date symbol  \n",
       "0 2023-11-02   AAPL  \n",
       "1 2023-11-02   AMZN  \n",
       "2 2023-11-02   GOOG  \n",
       "3 2023-11-02    IBM  \n",
       "4 2023-11-02   MSFT  \n",
       "5 2023-10-31    IBM  \n",
       "6 2023-10-31   AMZN  \n",
       "7 2023-10-31   GOOG  \n",
       "8 2023-10-31   AAPL  \n",
       "9 2023-10-31   MSFT  "
      ]
     },
     "execution_count": 22,
     "metadata": {},
     "output_type": "execute_result"
    }
   ],
   "source": [
    "# Se concatenan los DataFrames de cada acción en uno solo con distintos símbolos\n",
    "result_df = pd.concat([df_aapl, df_amzn, df_goog, df_msft, df_ibm], ignore_index=True)\n",
    "# Se ordena el DataFrame por fecha de forma descendente\n",
    "result_df = result_df.sort_values(by=['date'], ascending=False)\n",
    "result_df = result_df.reset_index(drop=True)\n",
    "result_df.head(10)"
   ]
  },
  {
   "cell_type": "code",
   "execution_count": 23,
   "metadata": {},
   "outputs": [
    {
     "name": "stdout",
     "output_type": "stream",
     "text": [
      "Proceso terminado\n"
     ]
    }
   ],
   "source": [
    "# Se elimina la tabla si existe para evitar problemas de sobreescritura\n",
    "drop_table(conn=conn, table_name='monthly_stocks_over_time')"
   ]
  },
  {
   "cell_type": "code",
   "execution_count": 24,
   "metadata": {},
   "outputs": [
    {
     "name": "stdout",
     "output_type": "stream",
     "text": [
      "['open', 'high', 'low', 'close', 'adjusted close', 'volume', 'dividend amount', 'date', 'symbol']\n",
      "\n",
      "        CREATE TABLE IF NOT EXISTS monthly_stocks_over_time (\"open\" FLOAT, \"high\" FLOAT, \"low\" FLOAT, \"close\" FLOAT, \"adjusted close\" FLOAT, \"volume\" VARCHAR(255), \"dividend amount\" FLOAT, \"date\" TIMESTAMP, \"symbol\" VARCHAR(255));\n",
      "        \n",
      "Proceso terminado\n"
     ]
    }
   ],
   "source": [
    "cargar_en_redshift(conn=conn, table_name='monthly_stocks_over_time', dataframe=result_df)"
   ]
  }
 ],
 "metadata": {
  "kernelspec": {
   "display_name": "Python 3",
   "language": "python",
   "name": "python3"
  },
  "language_info": {
   "codemirror_mode": {
    "name": "ipython",
    "version": 3
   },
   "file_extension": ".py",
   "mimetype": "text/x-python",
   "name": "python",
   "nbconvert_exporter": "python",
   "pygments_lexer": "ipython3",
   "version": "3.9.13"
  }
 },
 "nbformat": 4,
 "nbformat_minor": 2
}
